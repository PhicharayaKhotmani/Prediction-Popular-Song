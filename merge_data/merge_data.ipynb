{
 "cells": [
  {
   "cell_type": "code",
   "execution_count": 4,
   "metadata": {},
   "outputs": [
    {
     "name": "stdout",
     "output_type": "stream",
     "text": [
      "พบเพลงที่ตรงตามเงื่อนไข: 2891 รายการ\n"
     ]
    }
   ],
   "source": [
    "import pandas as pd\n",
    "import re\n",
    "\n",
    "# ฟังก์ชันทำความสะอาดข้อความ\n",
    "def clean_text(text):\n",
    "    if isinstance(text, str):\n",
    "        return re.sub(r'[^a-zA-Z0-9ก-๙]', '', text.lower())\n",
    "    return \"\"\n",
    "\n",
    "# โหลดข้อมูล\n",
    "file1 = pd.read_csv(\"spotify_data.csv\")\n",
    "file2 = pd.read_csv(\"youtube_data.csv\")\n",
    "\n",
    "# ทำความสะอาดข้อมูล\n",
    "file1[\"clean_track_name\"] = file1[\"track_name\"].apply(clean_text)\n",
    "file1[\"clean_artist_name\"] = file1[\"artist_names\"].apply(clean_text)\n",
    "file2[\"clean_title_YT\"] = file2[\"youtube_title\"].apply(clean_text)\n",
    "\n",
    "# เก็บรายการที่ตรงตามเงื่อนไข\n",
    "matched_tracks = []\n",
    "\n",
    "for _, row1 in file1.iterrows():\n",
    "    track_name = row1[\"clean_track_name\"]\n",
    "    artist_name = row1[\"clean_artist_name\"]\n",
    "\n",
    "    matched_row = None\n",
    "\n",
    "    for _, row2 in file2.iterrows():\n",
    "        youtube_title = row2[\"clean_title_YT\"]\n",
    "\n",
    "        # ตรวจสอบเงื่อนไขที่กำหนด\n",
    "        if (track_name in youtube_title and \n",
    "            ((artist_name not in youtube_title and track_name in youtube_title) or \n",
    "             artist_name in youtube_title)):\n",
    "            matched_row = {**row1.to_dict(), **row2.to_dict()}\n",
    "            break\n",
    "\n",
    "    if matched_row:\n",
    "        matched_tracks.append(matched_row)\n",
    "\n",
    "# แปลงผลลัพธ์เป็น DataFrame\n",
    "matched_df = pd.DataFrame(matched_tracks)\n",
    "\n",
    "# บันทึกผลลัพธ์\n",
    "matched_df.to_csv(\"matched_tracks.csv\", index=False)\n",
    "\n",
    "print(f\"พบเพลงที่ตรงตามเงื่อนไข: {len(matched_df)} รายการ\")\n"
   ]
  }
 ],
 "metadata": {
  "kernelspec": {
   "display_name": "Python 3",
   "language": "python",
   "name": "python3"
  },
  "language_info": {
   "codemirror_mode": {
    "name": "ipython",
    "version": 3
   },
   "file_extension": ".py",
   "mimetype": "text/x-python",
   "name": "python",
   "nbconvert_exporter": "python",
   "pygments_lexer": "ipython3",
   "version": "3.8.10"
  }
 },
 "nbformat": 4,
 "nbformat_minor": 2
}
