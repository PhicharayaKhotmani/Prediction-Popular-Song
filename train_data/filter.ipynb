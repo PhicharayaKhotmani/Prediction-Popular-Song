{
 "cells": [
  {
   "cell_type": "code",
   "execution_count": 1,
   "metadata": {},
   "outputs": [
    {
     "name": "stdout",
     "output_type": "stream",
     "text": [
      "ลบข้อมูลก่อนปี 2019 เสร็จแล้ว และบันทึกไฟล์ใหม่\n"
     ]
    }
   ],
   "source": [
    "import pandas as pd\n",
    "\n",
    "# อ่านไฟล์ CSV\n",
    "file_path = \"spotify_youtube_data.csv\"  # เปลี่ยนเป็นชื่อไฟล์จริง\n",
    "df = pd.read_csv(file_path)\n",
    "\n",
    "# แปลง publish_date เป็น datetime\n",
    "df[\"publish_date\"] = pd.to_datetime(df[\"publish_date\"])\n",
    "\n",
    "# กรองข้อมูลช่วงปี 2019 ถึง 2025\n",
    "filtered_df = df[(df[\"publish_date\"].dt.year >= 2019) & (df[\"publish_date\"].dt.year <= 2025)]\n",
    "\n",
    "# บันทึกข้อมูลใหม่\n",
    "filtered_df.to_csv(\"filtered_file.csv\", index=False)\n",
    "print(\"ลบข้อมูลก่อนปี 2019 เสร็จแล้ว และบันทึกไฟล์ใหม่\")\n"
   ]
  }
 ],
 "metadata": {
  "kernelspec": {
   "display_name": "Python 3",
   "language": "python",
   "name": "python3"
  },
  "language_info": {
   "codemirror_mode": {
    "name": "ipython",
    "version": 3
   },
   "file_extension": ".py",
   "mimetype": "text/x-python",
   "name": "python",
   "nbconvert_exporter": "python",
   "pygments_lexer": "ipython3",
   "version": "3.8.10"
  }
 },
 "nbformat": 4,
 "nbformat_minor": 2
}
