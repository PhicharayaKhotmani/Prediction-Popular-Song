{
 "cells": [
  {
   "cell_type": "code",
   "execution_count": 19,
   "metadata": {},
   "outputs": [],
   "source": [
    "import pandas as pd\n",
    "import os"
   ]
  },
  {
   "cell_type": "code",
   "execution_count": 29,
   "metadata": {},
   "outputs": [],
   "source": [
    "folder_path = 'data'\n",
    "\n",
    "file_list = [os.path.join(folder_path, file) for file in os.listdir(folder_path) if file.endswith('.csv')]\n",
    "\n",
    "# file_list"
   ]
  },
  {
   "cell_type": "code",
   "execution_count": 31,
   "metadata": {},
   "outputs": [
    {
     "data": {
      "text/plain": [
       "'Spotify2019-2025.csv'"
      ]
     },
     "execution_count": 31,
     "metadata": {},
     "output_type": "execute_result"
    }
   ],
   "source": [
    "combined_df = pd.DataFrame()\n",
    "\n",
    "for file in file_list:\n",
    "    df = pd.read_csv(file)\n",
    "    combined_df = pd.concat([combined_df, df])\n",
    "\n",
    "result_df = combined_df.groupby('track_name', as_index=False).agg({\n",
    "    'streams': 'sum',\n",
    "    'artist_names': 'first',  # Keep the first occurrence for artist_names\n",
    "    'uri': 'first',          # Keep the first occurrence for uri\n",
    "    'source': 'first',       # Keep the first occurrence for source\n",
    "    'peak_rank': 'min',      # Take the best (lowest) rank\n",
    "    'rank': 'min',           # Keep the best rank\n",
    "    'previous_rank': 'min',  # Take the best (lowest) previous rank\n",
    "    'weeks_on_chart': 'max'  # Take the maximum weeks on chart\n",
    "})\n",
    "\n",
    "output_file = 'Spotify2019-2025.csv'\n",
    "result_df.to_csv(output_file, index=False)\n",
    "\n",
    "output_file"
   ]
  }
 ],
 "metadata": {
  "kernelspec": {
   "display_name": "Python 3",
   "language": "python",
   "name": "python3"
  },
  "language_info": {
   "codemirror_mode": {
    "name": "ipython",
    "version": 3
   },
   "file_extension": ".py",
   "mimetype": "text/x-python",
   "name": "python",
   "nbconvert_exporter": "python",
   "pygments_lexer": "ipython3",
   "version": "3.8.10"
  }
 },
 "nbformat": 4,
 "nbformat_minor": 2
}
