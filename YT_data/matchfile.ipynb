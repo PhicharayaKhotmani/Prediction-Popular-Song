{
 "cells": [
  {
   "cell_type": "code",
   "execution_count": null,
   "metadata": {},
   "outputs": [],
   "source": [
    "file1 = pd.read_csv('Spotify2019-2025.csv')\n",
    "file2 = pd.read_csv('matched_songs.csv')"
   ]
  },
  {
   "cell_type": "code",
   "execution_count": 9,
   "metadata": {},
   "outputs": [
    {
     "name": "stdout",
     "output_type": "stream",
     "text": [
      "478\n",
      "445\n",
      "ข้อมูลซ้ำถูกลบเรียบร้อยแล้ว! ไฟล์ใหม่ถูกบันทึกใน 'file_cleaned.csv'\n"
     ]
    }
   ],
   "source": [
    "import pandas as pd\n",
    "\n",
    "# โหลดข้อมูลจากไฟล์ CSV\n",
    "df = pd.read_csv('matched_songs.csv')\n",
    "print(len(df))\n",
    "\n",
    "# ลบข้อมูลที่ซ้ำกัน\n",
    "# เก็บเฉพาะแถวที่ไม่ซ้ำกัน (เปรียบเทียบทั้งแถว)\n",
    "df_cleaned = df.drop_duplicates()\n",
    "print(len(df_cleaned))\n",
    "\n",
    "# หรือหากต้องการลบซ้ำโดยดูเฉพาะบางคอลัมน์ เช่น track_name และ artist_names\n",
    "# df_cleaned = df.drop_duplicates(subset=['track_name', 'artist_names'])\n",
    "\n",
    "# บันทึกข้อมูลที่ลบข้อมูลซ้ำแล้วลงไฟล์ใหม่\n",
    "df_cleaned.to_csv('file_cleaned.csv', index=False)\n",
    "\n",
    "print(f\"ข้อมูลซ้ำถูกลบเรียบร้อยแล้ว! ไฟล์ใหม่ถูกบันทึกใน 'file_cleaned.csv'\")\n"
   ]
  },
  {
   "cell_type": "code",
   "execution_count": 8,
   "metadata": {},
   "outputs": [
    {
     "name": "stdout",
     "output_type": "stream",
     "text": [
      "ไฟล์ 'not_match.csv' ถูกสร้างเรียบร้อยแล้ว! มีจำนวน 2837 เพลงที่ไม่พบในไฟล์ 2\n"
     ]
    }
   ],
   "source": [
    "import pandas as pd\n",
    "import re\n",
    "\n",
    "# โหลดข้อมูลจากไฟล์ CSV\n",
    "file1 = pd.read_csv('Spotify2019-2025.csv')\n",
    "file2 = pd.read_csv('matched_songs.csv')\n",
    "\n",
    "# ฟังก์ชันสำหรับทำความสะอาดข้อความ (ลบอักขระพิเศษและแปลงเป็นตัวพิมพ์เล็ก)\n",
    "def clean_text(text):\n",
    "    return re.sub(r'[^a-zA-Z0-9ก-๙]', '', text.lower())\n",
    "\n",
    "# สร้างคอลัมน์ที่ทำความสะอาดข้อความ\n",
    "file1['clean_track_name'] = file1['track_name'].apply(clean_text)\n",
    "file2['clean_youtube_title'] = file2['youtube_title'].apply(clean_text)\n",
    "\n",
    "# เก็บรายการเพลงที่ไม่ตรงกัน\n",
    "not_matched = []\n",
    "\n",
    "# ตรวจสอบแต่ละ track_name ในไฟล์ 1 ว่ามีใน youtube_title ของไฟล์ 2 หรือไม่\n",
    "for _, row1 in file1.iterrows():\n",
    "    track_name = row1['clean_track_name']\n",
    "    matched = False\n",
    "\n",
    "    for _, row2 in file2.iterrows():\n",
    "        youtube_title = row2['clean_youtube_title']\n",
    "\n",
    "        # เปรียบเทียบ track_name กับ youtube_title\n",
    "        if track_name in youtube_title:\n",
    "            matched = True\n",
    "            break\n",
    "\n",
    "    # หากไม่พบเพลงที่ตรงกัน ให้เก็บไว้ในรายการ not_matched\n",
    "    if not matched:\n",
    "        not_matched.append(row1)\n",
    "\n",
    "# สร้าง DataFrame สำหรับเพลงที่ไม่ตรงกัน\n",
    "not_matched_df = pd.DataFrame(not_matched)\n",
    "\n",
    "# บันทึกข้อมูลลงไฟล์ CSV ใหม่\n",
    "not_matched_df.to_csv('not_match.csv', index=False)\n",
    "\n",
    "print(f\"ไฟล์ 'not_match.csv' ถูกสร้างเรียบร้อยแล้ว! มีจำนวน {len(not_matched_df)} เพลงที่ไม่พบในไฟล์ 2\")"
   ]
  }
 ],
 "metadata": {
  "kernelspec": {
   "display_name": "Python 3",
   "language": "python",
   "name": "python3"
  },
  "language_info": {
   "codemirror_mode": {
    "name": "ipython",
    "version": 3
   },
   "file_extension": ".py",
   "mimetype": "text/x-python",
   "name": "python",
   "nbconvert_exporter": "python",
   "pygments_lexer": "ipython3",
   "version": "3.8.10"
  }
 },
 "nbformat": 4,
 "nbformat_minor": 2
}
